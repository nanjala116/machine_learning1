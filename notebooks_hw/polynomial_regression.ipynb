{
 "cells": [
  {
   "cell_type": "markdown",
   "id": "9d3ba7ab",
   "metadata": {},
   "source": []
  },
  {
   "cell_type": "code",
   "execution_count": null,
   "id": "a6bda84c",
   "metadata": {},
   "outputs": [],
   "source": [
    "# Import libraries\n",
    "import numpy as np\n",
    "from numpy.linalg import norm , solve\n",
    "import matplotlib.pyplot as plt\n",
    "from numpy.random import rand , randn"
   ]
  },
  {
   "cell_type": "code",
   "execution_count": null,
   "id": "3396c76f",
   "metadata": {},
   "outputs": [],
   "source": [
    "# Function to generate polynomial regression data\n",
    "# p: degree of polynomial\n",
    "# beta: coefficients of the polynomial\n",
    "# sig: standard deviation of noise\n",
    "# n: number of data points\n",
    "def generate_data(p, beta , sig, n):\n",
    "   u = np.random.rand(n, 1)\n",
    "   y = (u ** np.arange(0, p+1)) @ beta + sig * np.random.randn(n, 1)\n",
    "   return u, y"
   ]
  },
  {
   "cell_type": "code",
   "execution_count": null,
   "id": "88ad1f65",
   "metadata": {},
   "outputs": [],
   "source": [
    "# Function to compute the model matrix for polynomial regression\n",
    "# p: degree of polynomial\n",
    "# u: input data\n",
    "def model_matrix(p, u):\n",
    "   X = np.ones((n, 1))\n",
    "   p_range = np.arange(0, p + 1)    \n",
    "   for p_current in p_range:\n",
    "      if p_current > 0:\n",
    "         X = np.hstack((X, u**(p_current))) \n",
    "   return X"
   ]
  },
  {
   "cell_type": "code",
   "execution_count": null,
   "id": "c57fd26e",
   "metadata": {},
   "outputs": [],
   "source": [
    "# Function to train the polynomial regression model\n",
    "# X: model matrix\n",
    "# y: target values\n",
    "def train(X, y):\n",
    "    betahat = solve(X.T @ X, X.T @ y)\n",
    "    return betahat"
   ]
  },
  {
   "cell_type": "code",
   "execution_count": null,
   "id": "cad95362",
   "metadata": {},
   "outputs": [],
   "source": [
    "# Function to test the coefficients of the polynomial regression model\n",
    "# n: number of data points\n",
    "# betahat: estimated coefficients\n",
    "# X: model matrix\n",
    "# y: target values\n",
    "def test_coefficients(n, betahat, X, y):\n",
    "    y_hat = X @ betahat\n",
    "    loss = (norm(y - y_hat)**2/n)\n",
    "    return loss"
   ]
  },
  {
   "cell_type": "code",
   "execution_count": null,
   "id": "bfdc67ee",
   "metadata": {},
   "outputs": [],
   "source": []
  },
  {
   "cell_type": "code",
   "execution_count": null,
   "id": "463f0fd5",
   "metadata": {},
   "outputs": [],
   "source": []
  },
  {
   "cell_type": "code",
   "execution_count": null,
   "id": "dc2f575c",
   "metadata": {},
   "outputs": [],
   "source": []
  },
  {
   "cell_type": "code",
   "execution_count": null,
   "id": "dbdd484d",
   "metadata": {},
   "outputs": [],
   "source": []
  },
  {
   "cell_type": "code",
   "execution_count": null,
   "id": "62d2ae5b",
   "metadata": {},
   "outputs": [],
   "source": []
  },
  {
   "cell_type": "code",
   "execution_count": null,
   "id": "063e5ed6",
   "metadata": {},
   "outputs": [],
   "source": []
  },
  {
   "cell_type": "code",
   "execution_count": null,
   "id": "5ddee520",
   "metadata": {},
   "outputs": [],
   "source": []
  }
 ],
 "metadata": {
  "kernelspec": {
   "display_name": "3.11.8",
   "language": "python",
   "name": "python3"
  },
  "language_info": {
   "name": "python",
   "version": "3.11.8"
  }
 },
 "nbformat": 4,
 "nbformat_minor": 5
}
